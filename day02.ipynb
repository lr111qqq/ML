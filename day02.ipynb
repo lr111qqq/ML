{
 "cells": [
  {
   "cell_type": "code",
   "execution_count": 6,
   "metadata": {},
   "outputs": [],
   "source": [
    "path = \"master/data_set/datingTestSet.txt\"\n",
    "import numpy as np"
   ]
  },
  {
   "cell_type": "code",
   "execution_count": 9,
   "metadata": {},
   "outputs": [],
   "source": [
    "data = []\n",
    "labels = []\n",
    "open_file = open(path,mode = 'r',encoding='GBK')\n",
    "STR = open_file.read()\n",
    "lines = STR.split('\\n')\n",
    "for line in lines:\n",
    "    f_1 = line.split('\\t')\n",
    "    x1,x2,x3,label = float(f_1[0]),float(f_1[1]),float(f_1[2]),f_1[3]\n",
    "    data.append([x1,x2,x3])\n",
    "    labels.append(label)\n",
    "    \n",
    "data = np.array(data)\n",
    "labels = np.array(labels)"
   ]
  },
  {
   "cell_type": "code",
   "execution_count": 11,
   "metadata": {},
   "outputs": [
    {
     "name": "stdout",
     "output_type": "stream",
     "text": [
      "['largeDoses' 'smallDoses' 'didntLike' 'didntLike' 'didntLike' 'didntLike'\n",
      " 'largeDoses' 'largeDoses' 'didntLike' 'largeDoses' 'didntLike'\n",
      " 'didntLike' 'smallDoses' 'didntLike' 'didntLike' 'didntLike' 'didntLike'\n",
      " 'didntLike' 'smallDoses' 'largeDoses' 'smallDoses' 'didntLike'\n",
      " 'smallDoses' 'largeDoses' 'smallDoses' 'largeDoses' 'smallDoses'\n",
      " 'largeDoses' 'smallDoses' 'didntLike' 'largeDoses' 'didntLike'\n",
      " 'largeDoses' 'didntLike' 'smallDoses' 'didntLike' 'didntLike'\n",
      " 'smallDoses' 'largeDoses' 'largeDoses' 'didntLike' 'smallDoses'\n",
      " 'largeDoses' 'largeDoses' 'largeDoses' 'didntLike' 'didntLike'\n",
      " 'didntLike' 'didntLike' 'smallDoses' 'smallDoses' 'didntLike'\n",
      " 'largeDoses' 'smallDoses' 'smallDoses' 'smallDoses' 'smallDoses'\n",
      " 'largeDoses' 'didntLike' 'smallDoses' 'didntLike' 'smallDoses'\n",
      " 'smallDoses' 'smallDoses' 'smallDoses' 'smallDoses' 'largeDoses'\n",
      " 'smallDoses' 'largeDoses' 'didntLike' 'smallDoses' 'largeDoses'\n",
      " 'smallDoses' 'smallDoses' 'didntLike' 'largeDoses' 'didntLike'\n",
      " 'didntLike' 'largeDoses' 'largeDoses' 'didntLike' 'smallDoses'\n",
      " 'largeDoses' 'didntLike' 'largeDoses' 'didntLike' 'smallDoses'\n",
      " 'smallDoses' 'didntLike' 'didntLike' 'largeDoses' 'largeDoses'\n",
      " 'didntLike' 'smallDoses' 'didntLike' 'largeDoses' 'largeDoses'\n",
      " 'smallDoses' 'didntLike' 'didntLike' 'largeDoses' 'didntLike'\n",
      " 'smallDoses' 'largeDoses' 'largeDoses' 'smallDoses' 'largeDoses'\n",
      " 'largeDoses' 'didntLike' 'smallDoses' 'largeDoses' 'smallDoses'\n",
      " 'didntLike' 'largeDoses' 'didntLike' 'smallDoses' 'didntLike' 'didntLike'\n",
      " 'smallDoses' 'largeDoses' 'smallDoses' 'largeDoses' 'smallDoses'\n",
      " 'largeDoses' 'smallDoses' 'didntLike' 'largeDoses' 'largeDoses'\n",
      " 'largeDoses' 'didntLike' 'largeDoses' 'smallDoses' 'smallDoses'\n",
      " 'largeDoses' 'didntLike' 'largeDoses' 'largeDoses' 'largeDoses'\n",
      " 'didntLike' 'largeDoses' 'didntLike' 'didntLike' 'largeDoses'\n",
      " 'largeDoses' 'smallDoses' 'largeDoses' 'largeDoses' 'didntLike'\n",
      " 'smallDoses' 'largeDoses' 'smallDoses' 'smallDoses' 'largeDoses'\n",
      " 'largeDoses' 'largeDoses' 'didntLike' 'smallDoses' 'smallDoses'\n",
      " 'didntLike' 'didntLike' 'largeDoses' 'smallDoses' 'largeDoses'\n",
      " 'largeDoses' 'didntLike' 'smallDoses' 'didntLike' 'largeDoses'\n",
      " 'didntLike' 'smallDoses' 'largeDoses' 'smallDoses' 'largeDoses'\n",
      " 'didntLike' 'didntLike' 'didntLike' 'largeDoses' 'smallDoses'\n",
      " 'largeDoses' 'didntLike' 'largeDoses' 'smallDoses' 'didntLike'\n",
      " 'largeDoses' 'smallDoses' 'smallDoses' 'largeDoses' 'smallDoses'\n",
      " 'largeDoses' 'smallDoses' 'didntLike' 'didntLike' 'largeDoses'\n",
      " 'didntLike' 'largeDoses' 'smallDoses' 'smallDoses' 'smallDoses'\n",
      " 'largeDoses' 'smallDoses' 'smallDoses' 'didntLike' 'smallDoses'\n",
      " 'smallDoses' 'largeDoses' 'didntLike' 'largeDoses' 'largeDoses'\n",
      " 'smallDoses' 'didntLike' 'didntLike' 'didntLike' 'smallDoses' 'didntLike'\n",
      " 'largeDoses' 'largeDoses' 'largeDoses' 'largeDoses' 'smallDoses'\n",
      " 'didntLike' 'didntLike' 'didntLike' 'smallDoses' 'largeDoses'\n",
      " 'smallDoses' 'didntLike' 'largeDoses' 'didntLike' 'largeDoses'\n",
      " 'smallDoses' 'smallDoses' 'largeDoses' 'didntLike' 'largeDoses'\n",
      " 'didntLike' 'didntLike' 'smallDoses' 'didntLike' 'smallDoses'\n",
      " 'smallDoses' 'didntLike' 'largeDoses' 'didntLike' 'largeDoses'\n",
      " 'smallDoses' 'largeDoses' 'didntLike' 'smallDoses' 'largeDoses'\n",
      " 'didntLike' 'didntLike' 'didntLike' 'didntLike' 'smallDoses' 'largeDoses'\n",
      " 'smallDoses' 'smallDoses' 'largeDoses' 'didntLike' 'smallDoses'\n",
      " 'didntLike' 'didntLike' 'didntLike' 'largeDoses' 'largeDoses'\n",
      " 'smallDoses' 'didntLike' 'didntLike' 'didntLike' 'smallDoses'\n",
      " 'smallDoses' 'largeDoses' 'didntLike' 'didntLike' 'didntLike'\n",
      " 'smallDoses' 'didntLike' 'didntLike' 'smallDoses' 'didntLike' 'didntLike'\n",
      " 'didntLike' 'smallDoses' 'smallDoses' 'largeDoses' 'smallDoses'\n",
      " 'largeDoses' 'largeDoses' 'largeDoses' 'largeDoses' 'didntLike'\n",
      " 'smallDoses' 'largeDoses' 'didntLike' 'didntLike' 'didntLike'\n",
      " 'largeDoses' 'didntLike' 'largeDoses' 'smallDoses' 'smallDoses'\n",
      " 'didntLike' 'largeDoses' 'didntLike' 'largeDoses' 'smallDoses'\n",
      " 'smallDoses' 'didntLike' 'smallDoses' 'smallDoses' 'largeDoses'\n",
      " 'didntLike' 'largeDoses' 'smallDoses' 'didntLike' 'didntLike'\n",
      " 'largeDoses' 'largeDoses' 'smallDoses' 'largeDoses' 'largeDoses'\n",
      " 'smallDoses' 'largeDoses' 'didntLike' 'largeDoses' 'didntLike'\n",
      " 'largeDoses' 'largeDoses' 'didntLike' 'largeDoses' 'smallDoses'\n",
      " 'didntLike' 'largeDoses' 'didntLike' 'largeDoses' 'smallDoses'\n",
      " 'didntLike' 'smallDoses' 'smallDoses' 'didntLike' 'largeDoses'\n",
      " 'didntLike' 'didntLike' 'largeDoses' 'largeDoses' 'smallDoses'\n",
      " 'smallDoses' 'largeDoses' 'didntLike' 'smallDoses' 'largeDoses'\n",
      " 'largeDoses' 'smallDoses' 'smallDoses' 'didntLike' 'didntLike'\n",
      " 'didntLike' 'didntLike' 'largeDoses' 'smallDoses' 'didntLike' 'didntLike'\n",
      " 'largeDoses' 'smallDoses' 'didntLike' 'didntLike' 'largeDoses'\n",
      " 'largeDoses' 'largeDoses' 'smallDoses' 'largeDoses' 'smallDoses'\n",
      " 'didntLike' 'didntLike' 'didntLike' 'didntLike' 'didntLike' 'largeDoses'\n",
      " 'smallDoses' 'smallDoses' 'didntLike' 'smallDoses' 'didntLike'\n",
      " 'largeDoses' 'smallDoses' 'didntLike' 'largeDoses' 'smallDoses'\n",
      " 'didntLike' 'largeDoses' 'didntLike' 'didntLike' 'largeDoses'\n",
      " 'largeDoses' 'largeDoses' 'largeDoses' 'smallDoses' 'didntLike'\n",
      " 'didntLike' 'smallDoses' 'didntLike' 'largeDoses' 'largeDoses'\n",
      " 'smallDoses' 'didntLike' 'smallDoses' 'largeDoses' 'smallDoses'\n",
      " 'didntLike' 'smallDoses' 'smallDoses' 'smallDoses' 'didntLike'\n",
      " 'didntLike' 'largeDoses' 'didntLike' 'didntLike' 'smallDoses'\n",
      " 'largeDoses' 'didntLike' 'didntLike' 'smallDoses' 'largeDoses'\n",
      " 'didntLike' 'largeDoses' 'didntLike' 'didntLike' 'smallDoses'\n",
      " 'smallDoses' 'didntLike' 'smallDoses' 'smallDoses' 'smallDoses'\n",
      " 'largeDoses' 'didntLike' 'didntLike' 'didntLike' 'largeDoses' 'didntLike'\n",
      " 'largeDoses' 'didntLike' 'largeDoses' 'largeDoses' 'didntLike'\n",
      " 'didntLike' 'didntLike' 'largeDoses' 'smallDoses' 'largeDoses'\n",
      " 'largeDoses' 'smallDoses' 'smallDoses' 'didntLike' 'didntLike'\n",
      " 'didntLike' 'smallDoses' 'didntLike' 'smallDoses' 'smallDoses'\n",
      " 'largeDoses' 'largeDoses' 'largeDoses' 'didntLike' 'didntLike'\n",
      " 'largeDoses' 'largeDoses' 'smallDoses' 'largeDoses' 'largeDoses'\n",
      " 'smallDoses' 'largeDoses' 'largeDoses' 'largeDoses' 'smallDoses'\n",
      " 'largeDoses' 'largeDoses' 'didntLike' 'smallDoses' 'largeDoses'\n",
      " 'smallDoses' 'didntLike' 'didntLike' 'didntLike' 'didntLike' 'largeDoses'\n",
      " 'largeDoses' 'largeDoses' 'largeDoses' 'smallDoses' 'didntLike'\n",
      " 'didntLike' 'didntLike' 'didntLike' 'largeDoses' 'didntLike' 'didntLike'\n",
      " 'smallDoses' 'didntLike' 'didntLike' 'smallDoses' 'largeDoses'\n",
      " 'smallDoses' 'didntLike' 'smallDoses' 'smallDoses' 'smallDoses'\n",
      " 'largeDoses' 'smallDoses' 'didntLike' 'largeDoses' 'smallDoses'\n",
      " 'largeDoses' 'smallDoses' 'largeDoses' 'smallDoses' 'didntLike'\n",
      " 'didntLike' 'smallDoses' 'largeDoses' 'didntLike' 'largeDoses'\n",
      " 'largeDoses' 'largeDoses' 'didntLike' 'smallDoses' 'didntLike'\n",
      " 'smallDoses' 'smallDoses' 'didntLike' 'smallDoses' 'smallDoses'\n",
      " 'smallDoses' 'smallDoses' 'smallDoses' 'largeDoses' 'smallDoses'\n",
      " 'didntLike' 'largeDoses' 'largeDoses' 'smallDoses' 'smallDoses'\n",
      " 'smallDoses' 'largeDoses' 'didntLike' 'smallDoses' 'didntLike'\n",
      " 'didntLike' 'largeDoses' 'smallDoses' 'largeDoses' 'smallDoses'\n",
      " 'largeDoses' 'smallDoses' 'largeDoses' 'largeDoses' 'smallDoses'\n",
      " 'smallDoses' 'didntLike' 'largeDoses' 'didntLike' 'smallDoses'\n",
      " 'didntLike' 'largeDoses' 'didntLike' 'didntLike' 'didntLike' 'largeDoses'\n",
      " 'didntLike' 'didntLike' 'largeDoses' 'largeDoses' 'smallDoses'\n",
      " 'smallDoses' 'didntLike' 'largeDoses' 'didntLike' 'didntLike'\n",
      " 'largeDoses' 'smallDoses' 'largeDoses' 'didntLike' 'didntLike'\n",
      " 'largeDoses' 'didntLike' 'largeDoses' 'largeDoses' 'didntLike'\n",
      " 'smallDoses' 'largeDoses' 'didntLike' 'largeDoses' 'didntLike'\n",
      " 'didntLike' 'smallDoses' 'didntLike' 'largeDoses' 'didntLike' 'didntLike'\n",
      " 'didntLike' 'didntLike' 'smallDoses' 'didntLike' 'largeDoses' 'didntLike'\n",
      " 'smallDoses' 'didntLike' 'largeDoses' 'didntLike' 'largeDoses'\n",
      " 'didntLike' 'didntLike' 'smallDoses' 'smallDoses' 'smallDoses'\n",
      " 'largeDoses' 'smallDoses' 'smallDoses' 'didntLike' 'smallDoses'\n",
      " 'largeDoses' 'largeDoses' 'smallDoses' 'largeDoses' 'largeDoses'\n",
      " 'largeDoses' 'smallDoses' 'largeDoses' 'largeDoses' 'didntLike'\n",
      " 'largeDoses' 'smallDoses' 'largeDoses' 'smallDoses' 'didntLike'\n",
      " 'smallDoses' 'didntLike' 'didntLike' 'didntLike' 'smallDoses'\n",
      " 'largeDoses' 'smallDoses' 'smallDoses' 'didntLike' 'smallDoses'\n",
      " 'smallDoses' 'didntLike' 'largeDoses' 'didntLike' 'largeDoses'\n",
      " 'largeDoses' 'largeDoses' 'smallDoses' 'smallDoses' 'largeDoses'\n",
      " 'largeDoses' 'didntLike' 'smallDoses' 'smallDoses' 'smallDoses'\n",
      " 'largeDoses' 'didntLike' 'smallDoses' 'didntLike' 'largeDoses'\n",
      " 'didntLike' 'smallDoses' 'largeDoses' 'didntLike' 'didntLike' 'didntLike'\n",
      " 'smallDoses' 'smallDoses' 'largeDoses' 'didntLike' 'largeDoses'\n",
      " 'didntLike' 'didntLike' 'largeDoses' 'didntLike' 'smallDoses'\n",
      " 'largeDoses' 'didntLike' 'smallDoses' 'largeDoses' 'didntLike'\n",
      " 'smallDoses' 'largeDoses' 'smallDoses' 'smallDoses' 'smallDoses'\n",
      " 'largeDoses' 'didntLike' 'largeDoses' 'didntLike' 'smallDoses'\n",
      " 'largeDoses' 'smallDoses' 'smallDoses' 'largeDoses' 'didntLike'\n",
      " 'smallDoses' 'largeDoses' 'smallDoses' 'largeDoses' 'didntLike'\n",
      " 'smallDoses' 'smallDoses' 'largeDoses' 'didntLike' 'didntLike'\n",
      " 'didntLike' 'smallDoses' 'smallDoses' 'didntLike' 'didntLike'\n",
      " 'smallDoses' 'didntLike' 'smallDoses' 'didntLike' 'smallDoses'\n",
      " 'largeDoses' 'smallDoses' 'didntLike' 'largeDoses' 'largeDoses'\n",
      " 'largeDoses' 'didntLike' 'didntLike' 'largeDoses' 'didntLike'\n",
      " 'smallDoses' 'largeDoses' 'largeDoses' 'smallDoses' 'smallDoses'\n",
      " 'smallDoses' 'didntLike' 'smallDoses' 'largeDoses' 'smallDoses'\n",
      " 'smallDoses' 'largeDoses' 'smallDoses' 'smallDoses' 'smallDoses'\n",
      " 'largeDoses' 'largeDoses' 'smallDoses' 'didntLike' 'largeDoses'\n",
      " 'smallDoses' 'didntLike' 'largeDoses' 'largeDoses' 'didntLike'\n",
      " 'smallDoses' 'largeDoses' 'smallDoses' 'didntLike' 'largeDoses'\n",
      " 'largeDoses' 'largeDoses' 'didntLike' 'smallDoses' 'smallDoses'\n",
      " 'smallDoses' 'largeDoses' 'smallDoses' 'largeDoses' 'largeDoses'\n",
      " 'didntLike' 'smallDoses' 'didntLike' 'didntLike' 'smallDoses' 'didntLike'\n",
      " 'largeDoses' 'didntLike' 'smallDoses' 'smallDoses' 'didntLike'\n",
      " 'largeDoses' 'smallDoses' 'didntLike' 'largeDoses' 'largeDoses'\n",
      " 'smallDoses' 'smallDoses' 'smallDoses' 'didntLike' 'smallDoses'\n",
      " 'smallDoses' 'didntLike' 'largeDoses' 'didntLike' 'largeDoses'\n",
      " 'didntLike' 'largeDoses' 'largeDoses' 'didntLike' 'didntLike'\n",
      " 'smallDoses' 'largeDoses' 'smallDoses' 'smallDoses' 'largeDoses'\n",
      " 'didntLike' 'didntLike' 'didntLike' 'didntLike' 'largeDoses' 'smallDoses'\n",
      " 'smallDoses' 'didntLike' 'largeDoses' 'didntLike' 'smallDoses'\n",
      " 'largeDoses' 'didntLike' 'largeDoses' 'didntLike' 'largeDoses'\n",
      " 'didntLike' 'didntLike' 'largeDoses' 'smallDoses' 'largeDoses'\n",
      " 'didntLike' 'didntLike' 'largeDoses' 'largeDoses' 'largeDoses'\n",
      " 'largeDoses' 'didntLike' 'largeDoses' 'smallDoses' 'smallDoses'\n",
      " 'didntLike' 'didntLike' 'largeDoses' 'largeDoses' 'smallDoses'\n",
      " 'smallDoses' 'smallDoses' 'didntLike' 'smallDoses' 'didntLike'\n",
      " 'smallDoses' 'didntLike' 'largeDoses' 'smallDoses' 'didntLike'\n",
      " 'smallDoses' 'smallDoses' 'largeDoses' 'didntLike' 'smallDoses'\n",
      " 'smallDoses' 'smallDoses' 'largeDoses' 'smallDoses' 'didntLike'\n",
      " 'smallDoses' 'didntLike' 'smallDoses' 'largeDoses' 'largeDoses'\n",
      " 'smallDoses' 'largeDoses' 'didntLike' 'didntLike' 'largeDoses'\n",
      " 'largeDoses' 'didntLike' 'smallDoses' 'smallDoses' 'smallDoses'\n",
      " 'smallDoses' 'smallDoses' 'smallDoses' 'didntLike' 'largeDoses'\n",
      " 'largeDoses' 'largeDoses' 'largeDoses' 'largeDoses' 'didntLike'\n",
      " 'didntLike' 'largeDoses' 'smallDoses' 'didntLike' 'smallDoses'\n",
      " 'didntLike' 'smallDoses' 'smallDoses' 'largeDoses' 'smallDoses'\n",
      " 'smallDoses' 'smallDoses' 'largeDoses' 'didntLike' 'smallDoses'\n",
      " 'didntLike' 'smallDoses' 'smallDoses' 'didntLike' 'didntLike'\n",
      " 'smallDoses' 'largeDoses' 'largeDoses' 'didntLike' 'didntLike'\n",
      " 'didntLike' 'didntLike' 'largeDoses' 'largeDoses' 'largeDoses'\n",
      " 'largeDoses' 'largeDoses' 'largeDoses' 'didntLike' 'largeDoses'\n",
      " 'largeDoses' 'smallDoses' 'largeDoses' 'smallDoses' 'largeDoses'\n",
      " 'largeDoses' 'smallDoses' 'smallDoses' 'didntLike' 'didntLike'\n",
      " 'didntLike' 'largeDoses' 'largeDoses' 'didntLike' 'didntLike' 'didntLike'\n",
      " 'largeDoses' 'largeDoses' 'smallDoses' 'didntLike' 'smallDoses'\n",
      " 'didntLike' 'didntLike' 'smallDoses' 'smallDoses' 'didntLike' 'didntLike'\n",
      " 'didntLike' 'largeDoses' 'didntLike' 'didntLike' 'smallDoses'\n",
      " 'largeDoses' 'smallDoses' 'smallDoses' 'didntLike' 'largeDoses'\n",
      " 'didntLike' 'smallDoses' 'largeDoses' 'didntLike' 'smallDoses'\n",
      " 'smallDoses' 'smallDoses' 'smallDoses' 'largeDoses' 'smallDoses'\n",
      " 'largeDoses' 'largeDoses' 'didntLike' 'smallDoses' 'didntLike'\n",
      " 'smallDoses' 'largeDoses' 'didntLike' 'largeDoses' 'smallDoses'\n",
      " 'smallDoses' 'smallDoses' 'smallDoses' 'smallDoses' 'smallDoses'\n",
      " 'smallDoses' 'smallDoses' 'smallDoses' 'smallDoses' 'smallDoses'\n",
      " 'smallDoses' 'largeDoses' 'smallDoses' 'smallDoses' 'smallDoses'\n",
      " 'smallDoses' 'smallDoses' 'didntLike' 'largeDoses' 'largeDoses'\n",
      " 'largeDoses']\n"
     ]
    }
   ],
   "source": [
    "print(labels)"
   ]
  },
  {
   "cell_type": "code",
   "execution_count": 12,
   "metadata": {},
   "outputs": [
    {
     "data": {
      "text/plain": [
       "[1, 2]"
      ]
     },
     "execution_count": 12,
     "metadata": {},
     "output_type": "execute_result"
    }
   ],
   "source": [
    "a = [1,2,3]\n",
    "a[:-1]"
   ]
  },
  {
   "cell_type": "code",
   "execution_count": 13,
   "metadata": {},
   "outputs": [
    {
     "data": {
      "text/plain": [
       "[1, 2]"
      ]
     },
     "execution_count": 13,
     "metadata": {},
     "output_type": "execute_result"
    }
   ],
   "source": [
    "a[0:2]"
   ]
  },
  {
   "cell_type": "code",
   "execution_count": 17,
   "metadata": {},
   "outputs": [
    {
     "name": "stdout",
     "output_type": "stream",
     "text": [
      "[9.1273000e+04 2.0919349e+01 1.6955170e+00]\n",
      "[0.       0.       0.001156]\n"
     ]
    }
   ],
   "source": [
    "max_ = np.max(data,axis=0)\n",
    "min_ = np.min(data,axis=0)\n",
    "print(max_)\n",
    "print(min_)"
   ]
  },
  {
   "cell_type": "code",
   "execution_count": 18,
   "metadata": {},
   "outputs": [],
   "source": [
    "new_data = (data - min_) / (max_ - min_)"
   ]
  },
  {
   "cell_type": "code",
   "execution_count": 19,
   "metadata": {},
   "outputs": [
    {
     "data": {
      "text/plain": [
       "array([[0.44832535, 0.39805139, 0.56233353],\n",
       "       [0.15873259, 0.34195467, 0.98724416],\n",
       "       [0.28542943, 0.06892523, 0.47449629],\n",
       "       ...,\n",
       "       [0.29115949, 0.50910294, 0.51079493],\n",
       "       [0.52711097, 0.43665451, 0.4290048 ],\n",
       "       [0.47940793, 0.3768091 , 0.78571804]])"
      ]
     },
     "execution_count": 19,
     "metadata": {},
     "output_type": "execute_result"
    }
   ],
   "source": [
    "new_data"
   ]
  },
  {
   "cell_type": "code",
   "execution_count": 21,
   "metadata": {},
   "outputs": [],
   "source": [
    "from sklearn.model_selection import train_test_split"
   ]
  },
  {
   "cell_type": "code",
   "execution_count": 22,
   "metadata": {},
   "outputs": [],
   "source": [
    "x_train,x_test,y_train,y_test = train_test_split(new_data,labels,test_size=0.3,random_state=42)"
   ]
  },
  {
   "cell_type": "code",
   "execution_count": 23,
   "metadata": {},
   "outputs": [
    {
     "data": {
      "text/plain": [
       "(300, 3)"
      ]
     },
     "execution_count": 23,
     "metadata": {},
     "output_type": "execute_result"
    }
   ],
   "source": [
    "x_test.shape"
   ]
  },
  {
   "cell_type": "code",
   "execution_count": 24,
   "metadata": {},
   "outputs": [
    {
     "data": {
      "text/plain": [
       "(700, 3)"
      ]
     },
     "execution_count": 24,
     "metadata": {},
     "output_type": "execute_result"
    }
   ],
   "source": [
    "x_train.shape"
   ]
  },
  {
   "cell_type": "code",
   "execution_count": 25,
   "metadata": {},
   "outputs": [
    {
     "data": {
      "text/plain": [
       "(300,)"
      ]
     },
     "execution_count": 25,
     "metadata": {},
     "output_type": "execute_result"
    }
   ],
   "source": [
    "y_test.shape"
   ]
  },
  {
   "cell_type": "code",
   "execution_count": 26,
   "metadata": {},
   "outputs": [
    {
     "data": {
      "text/plain": [
       "(700,)"
      ]
     },
     "execution_count": 26,
     "metadata": {},
     "output_type": "execute_result"
    }
   ],
   "source": [
    "y_train.shape"
   ]
  },
  {
   "cell_type": "code",
   "execution_count": 27,
   "metadata": {},
   "outputs": [],
   "source": [
    " def KNN_model(x_train,x_test,y_train,y_test,K):\n",
    "        data = x_test(i)\n",
    "        distance = np.power(np.sum((data - x_train)**2,axis=1),0.5)\n",
    "        sort_k = np.argsort(distance)[:K]\n",
    "        \n",
    "    \n",
    "    "
   ]
  },
  {
   "cell_type": "code",
   "execution_count": null,
   "metadata": {},
   "outputs": [],
   "source": []
  }
 ],
 "metadata": {
  "kernelspec": {
   "display_name": "Python 3",
   "language": "python",
   "name": "python3"
  },
  "language_info": {
   "codemirror_mode": {
    "name": "ipython",
    "version": 3
   },
   "file_extension": ".py",
   "mimetype": "text/x-python",
   "name": "python",
   "nbconvert_exporter": "python",
   "pygments_lexer": "ipython3",
   "version": "3.7.3"
  }
 },
 "nbformat": 4,
 "nbformat_minor": 2
}
